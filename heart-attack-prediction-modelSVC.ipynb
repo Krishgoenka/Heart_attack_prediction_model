{
 "cells": [
  {
   "cell_type": "code",
   "execution_count": 1,
   "id": "dec9ee50",
   "metadata": {
    "_cell_guid": "b1076dfc-b9ad-4769-8c92-a6c4dae69d19",
    "_uuid": "8f2839f25d086af736a60e9eeb907d3b93b6e0e5",
    "execution": {
     "iopub.execute_input": "2025-03-25T14:40:48.656769Z",
     "iopub.status.busy": "2025-03-25T14:40:48.656251Z",
     "iopub.status.idle": "2025-03-25T14:40:51.154297Z",
     "shell.execute_reply": "2025-03-25T14:40:51.153213Z"
    },
    "papermill": {
     "duration": 2.505043,
     "end_time": "2025-03-25T14:40:51.156122",
     "exception": false,
     "start_time": "2025-03-25T14:40:48.651079",
     "status": "completed"
    },
    "tags": []
   },
   "outputs": [],
   "source": [
    "import pandas as pd\n",
    "import numpy as np\n",
    "import matplotlib.pyplot as plt\n",
    "from sklearn.preprocessing import StandardScaler\n",
    "from sklearn.model_selection import train_test_split\n",
    "from sklearn.svm import SVC\n",
    "from sklearn.metrics import accuracy_score , classification_report , confusion_matrix\n"
   ]
  },
  {
   "cell_type": "code",
   "execution_count": 2,
   "id": "9ec089bd",
   "metadata": {
    "execution": {
     "iopub.execute_input": "2025-03-25T14:40:51.164659Z",
     "iopub.status.busy": "2025-03-25T14:40:51.164168Z",
     "iopub.status.idle": "2025-03-25T14:40:51.185496Z",
     "shell.execute_reply": "2025-03-25T14:40:51.184276Z"
    },
    "papermill": {
     "duration": 0.027321,
     "end_time": "2025-03-25T14:40:51.187316",
     "exception": false,
     "start_time": "2025-03-25T14:40:51.159995",
     "status": "completed"
    },
    "tags": []
   },
   "outputs": [],
   "source": [
    "df= pd.read_csv(\"/kaggle/input/heart-disease-dataset/heart.csv\")"
   ]
  },
  {
   "cell_type": "code",
   "execution_count": 3,
   "id": "cf8cfbcb",
   "metadata": {
    "execution": {
     "iopub.execute_input": "2025-03-25T14:40:51.195553Z",
     "iopub.status.busy": "2025-03-25T14:40:51.195192Z",
     "iopub.status.idle": "2025-03-25T14:40:51.225549Z",
     "shell.execute_reply": "2025-03-25T14:40:51.224520Z"
    },
    "papermill": {
     "duration": 0.036336,
     "end_time": "2025-03-25T14:40:51.227294",
     "exception": false,
     "start_time": "2025-03-25T14:40:51.190958",
     "status": "completed"
    },
    "tags": []
   },
   "outputs": [
    {
     "data": {
      "text/html": [
       "<div>\n",
       "<style scoped>\n",
       "    .dataframe tbody tr th:only-of-type {\n",
       "        vertical-align: middle;\n",
       "    }\n",
       "\n",
       "    .dataframe tbody tr th {\n",
       "        vertical-align: top;\n",
       "    }\n",
       "\n",
       "    .dataframe thead th {\n",
       "        text-align: right;\n",
       "    }\n",
       "</style>\n",
       "<table border=\"1\" class=\"dataframe\">\n",
       "  <thead>\n",
       "    <tr style=\"text-align: right;\">\n",
       "      <th></th>\n",
       "      <th>age</th>\n",
       "      <th>sex</th>\n",
       "      <th>cp</th>\n",
       "      <th>trestbps</th>\n",
       "      <th>chol</th>\n",
       "      <th>fbs</th>\n",
       "      <th>restecg</th>\n",
       "      <th>thalach</th>\n",
       "      <th>exang</th>\n",
       "      <th>oldpeak</th>\n",
       "      <th>slope</th>\n",
       "      <th>ca</th>\n",
       "      <th>thal</th>\n",
       "      <th>target</th>\n",
       "    </tr>\n",
       "  </thead>\n",
       "  <tbody>\n",
       "    <tr>\n",
       "      <th>0</th>\n",
       "      <td>52</td>\n",
       "      <td>1</td>\n",
       "      <td>0</td>\n",
       "      <td>125</td>\n",
       "      <td>212</td>\n",
       "      <td>0</td>\n",
       "      <td>1</td>\n",
       "      <td>168</td>\n",
       "      <td>0</td>\n",
       "      <td>1.0</td>\n",
       "      <td>2</td>\n",
       "      <td>2</td>\n",
       "      <td>3</td>\n",
       "      <td>0</td>\n",
       "    </tr>\n",
       "    <tr>\n",
       "      <th>1</th>\n",
       "      <td>53</td>\n",
       "      <td>1</td>\n",
       "      <td>0</td>\n",
       "      <td>140</td>\n",
       "      <td>203</td>\n",
       "      <td>1</td>\n",
       "      <td>0</td>\n",
       "      <td>155</td>\n",
       "      <td>1</td>\n",
       "      <td>3.1</td>\n",
       "      <td>0</td>\n",
       "      <td>0</td>\n",
       "      <td>3</td>\n",
       "      <td>0</td>\n",
       "    </tr>\n",
       "    <tr>\n",
       "      <th>2</th>\n",
       "      <td>70</td>\n",
       "      <td>1</td>\n",
       "      <td>0</td>\n",
       "      <td>145</td>\n",
       "      <td>174</td>\n",
       "      <td>0</td>\n",
       "      <td>1</td>\n",
       "      <td>125</td>\n",
       "      <td>1</td>\n",
       "      <td>2.6</td>\n",
       "      <td>0</td>\n",
       "      <td>0</td>\n",
       "      <td>3</td>\n",
       "      <td>0</td>\n",
       "    </tr>\n",
       "    <tr>\n",
       "      <th>3</th>\n",
       "      <td>61</td>\n",
       "      <td>1</td>\n",
       "      <td>0</td>\n",
       "      <td>148</td>\n",
       "      <td>203</td>\n",
       "      <td>0</td>\n",
       "      <td>1</td>\n",
       "      <td>161</td>\n",
       "      <td>0</td>\n",
       "      <td>0.0</td>\n",
       "      <td>2</td>\n",
       "      <td>1</td>\n",
       "      <td>3</td>\n",
       "      <td>0</td>\n",
       "    </tr>\n",
       "    <tr>\n",
       "      <th>4</th>\n",
       "      <td>62</td>\n",
       "      <td>0</td>\n",
       "      <td>0</td>\n",
       "      <td>138</td>\n",
       "      <td>294</td>\n",
       "      <td>1</td>\n",
       "      <td>1</td>\n",
       "      <td>106</td>\n",
       "      <td>0</td>\n",
       "      <td>1.9</td>\n",
       "      <td>1</td>\n",
       "      <td>3</td>\n",
       "      <td>2</td>\n",
       "      <td>0</td>\n",
       "    </tr>\n",
       "  </tbody>\n",
       "</table>\n",
       "</div>"
      ],
      "text/plain": [
       "   age  sex  cp  trestbps  chol  fbs  restecg  thalach  exang  oldpeak  slope  \\\n",
       "0   52    1   0       125   212    0        1      168      0      1.0      2   \n",
       "1   53    1   0       140   203    1        0      155      1      3.1      0   \n",
       "2   70    1   0       145   174    0        1      125      1      2.6      0   \n",
       "3   61    1   0       148   203    0        1      161      0      0.0      2   \n",
       "4   62    0   0       138   294    1        1      106      0      1.9      1   \n",
       "\n",
       "   ca  thal  target  \n",
       "0   2     3       0  \n",
       "1   0     3       0  \n",
       "2   0     3       0  \n",
       "3   1     3       0  \n",
       "4   3     2       0  "
      ]
     },
     "execution_count": 3,
     "metadata": {},
     "output_type": "execute_result"
    }
   ],
   "source": [
    "df.head()"
   ]
  },
  {
   "cell_type": "code",
   "execution_count": 4,
   "id": "5fea9dbc",
   "metadata": {
    "execution": {
     "iopub.execute_input": "2025-03-25T14:40:51.236168Z",
     "iopub.status.busy": "2025-03-25T14:40:51.235857Z",
     "iopub.status.idle": "2025-03-25T14:40:51.247732Z",
     "shell.execute_reply": "2025-03-25T14:40:51.246904Z"
    },
    "papermill": {
     "duration": 0.017768,
     "end_time": "2025-03-25T14:40:51.249044",
     "exception": false,
     "start_time": "2025-03-25T14:40:51.231276",
     "status": "completed"
    },
    "tags": []
   },
   "outputs": [
    {
     "data": {
      "text/html": [
       "<div>\n",
       "<style scoped>\n",
       "    .dataframe tbody tr th:only-of-type {\n",
       "        vertical-align: middle;\n",
       "    }\n",
       "\n",
       "    .dataframe tbody tr th {\n",
       "        vertical-align: top;\n",
       "    }\n",
       "\n",
       "    .dataframe thead th {\n",
       "        text-align: right;\n",
       "    }\n",
       "</style>\n",
       "<table border=\"1\" class=\"dataframe\">\n",
       "  <thead>\n",
       "    <tr style=\"text-align: right;\">\n",
       "      <th></th>\n",
       "      <th>age</th>\n",
       "      <th>sex</th>\n",
       "      <th>cp</th>\n",
       "      <th>trestbps</th>\n",
       "      <th>chol</th>\n",
       "      <th>fbs</th>\n",
       "      <th>restecg</th>\n",
       "      <th>thalach</th>\n",
       "      <th>exang</th>\n",
       "      <th>oldpeak</th>\n",
       "      <th>slope</th>\n",
       "      <th>ca</th>\n",
       "      <th>thal</th>\n",
       "      <th>target</th>\n",
       "    </tr>\n",
       "  </thead>\n",
       "  <tbody>\n",
       "    <tr>\n",
       "      <th>1020</th>\n",
       "      <td>59</td>\n",
       "      <td>1</td>\n",
       "      <td>1</td>\n",
       "      <td>140</td>\n",
       "      <td>221</td>\n",
       "      <td>0</td>\n",
       "      <td>1</td>\n",
       "      <td>164</td>\n",
       "      <td>1</td>\n",
       "      <td>0.0</td>\n",
       "      <td>2</td>\n",
       "      <td>0</td>\n",
       "      <td>2</td>\n",
       "      <td>1</td>\n",
       "    </tr>\n",
       "    <tr>\n",
       "      <th>1021</th>\n",
       "      <td>60</td>\n",
       "      <td>1</td>\n",
       "      <td>0</td>\n",
       "      <td>125</td>\n",
       "      <td>258</td>\n",
       "      <td>0</td>\n",
       "      <td>0</td>\n",
       "      <td>141</td>\n",
       "      <td>1</td>\n",
       "      <td>2.8</td>\n",
       "      <td>1</td>\n",
       "      <td>1</td>\n",
       "      <td>3</td>\n",
       "      <td>0</td>\n",
       "    </tr>\n",
       "    <tr>\n",
       "      <th>1022</th>\n",
       "      <td>47</td>\n",
       "      <td>1</td>\n",
       "      <td>0</td>\n",
       "      <td>110</td>\n",
       "      <td>275</td>\n",
       "      <td>0</td>\n",
       "      <td>0</td>\n",
       "      <td>118</td>\n",
       "      <td>1</td>\n",
       "      <td>1.0</td>\n",
       "      <td>1</td>\n",
       "      <td>1</td>\n",
       "      <td>2</td>\n",
       "      <td>0</td>\n",
       "    </tr>\n",
       "    <tr>\n",
       "      <th>1023</th>\n",
       "      <td>50</td>\n",
       "      <td>0</td>\n",
       "      <td>0</td>\n",
       "      <td>110</td>\n",
       "      <td>254</td>\n",
       "      <td>0</td>\n",
       "      <td>0</td>\n",
       "      <td>159</td>\n",
       "      <td>0</td>\n",
       "      <td>0.0</td>\n",
       "      <td>2</td>\n",
       "      <td>0</td>\n",
       "      <td>2</td>\n",
       "      <td>1</td>\n",
       "    </tr>\n",
       "    <tr>\n",
       "      <th>1024</th>\n",
       "      <td>54</td>\n",
       "      <td>1</td>\n",
       "      <td>0</td>\n",
       "      <td>120</td>\n",
       "      <td>188</td>\n",
       "      <td>0</td>\n",
       "      <td>1</td>\n",
       "      <td>113</td>\n",
       "      <td>0</td>\n",
       "      <td>1.4</td>\n",
       "      <td>1</td>\n",
       "      <td>1</td>\n",
       "      <td>3</td>\n",
       "      <td>0</td>\n",
       "    </tr>\n",
       "  </tbody>\n",
       "</table>\n",
       "</div>"
      ],
      "text/plain": [
       "      age  sex  cp  trestbps  chol  fbs  restecg  thalach  exang  oldpeak  \\\n",
       "1020   59    1   1       140   221    0        1      164      1      0.0   \n",
       "1021   60    1   0       125   258    0        0      141      1      2.8   \n",
       "1022   47    1   0       110   275    0        0      118      1      1.0   \n",
       "1023   50    0   0       110   254    0        0      159      0      0.0   \n",
       "1024   54    1   0       120   188    0        1      113      0      1.4   \n",
       "\n",
       "      slope  ca  thal  target  \n",
       "1020      2   0     2       1  \n",
       "1021      1   1     3       0  \n",
       "1022      1   1     2       0  \n",
       "1023      2   0     2       1  \n",
       "1024      1   1     3       0  "
      ]
     },
     "execution_count": 4,
     "metadata": {},
     "output_type": "execute_result"
    }
   ],
   "source": [
    "df.tail()"
   ]
  },
  {
   "cell_type": "code",
   "execution_count": 5,
   "id": "ce6386d9",
   "metadata": {
    "execution": {
     "iopub.execute_input": "2025-03-25T14:40:51.258148Z",
     "iopub.status.busy": "2025-03-25T14:40:51.257825Z",
     "iopub.status.idle": "2025-03-25T14:40:51.267446Z",
     "shell.execute_reply": "2025-03-25T14:40:51.266527Z"
    },
    "papermill": {
     "duration": 0.015906,
     "end_time": "2025-03-25T14:40:51.268998",
     "exception": false,
     "start_time": "2025-03-25T14:40:51.253092",
     "status": "completed"
    },
    "tags": []
   },
   "outputs": [
    {
     "data": {
      "text/plain": [
       "age         0\n",
       "sex         0\n",
       "cp          0\n",
       "trestbps    0\n",
       "chol        0\n",
       "fbs         0\n",
       "restecg     0\n",
       "thalach     0\n",
       "exang       0\n",
       "oldpeak     0\n",
       "slope       0\n",
       "ca          0\n",
       "thal        0\n",
       "target      0\n",
       "dtype: int64"
      ]
     },
     "execution_count": 5,
     "metadata": {},
     "output_type": "execute_result"
    }
   ],
   "source": [
    "df.isnull().sum()"
   ]
  },
  {
   "cell_type": "code",
   "execution_count": 6,
   "id": "6b68cf07",
   "metadata": {
    "execution": {
     "iopub.execute_input": "2025-03-25T14:40:51.277991Z",
     "iopub.status.busy": "2025-03-25T14:40:51.277674Z",
     "iopub.status.idle": "2025-03-25T14:40:51.287496Z",
     "shell.execute_reply": "2025-03-25T14:40:51.286539Z"
    },
    "papermill": {
     "duration": 0.016077,
     "end_time": "2025-03-25T14:40:51.289060",
     "exception": false,
     "start_time": "2025-03-25T14:40:51.272983",
     "status": "completed"
    },
    "tags": []
   },
   "outputs": [],
   "source": [
    "x= df.drop(columns=['target'])\n",
    "y= df['target']"
   ]
  },
  {
   "cell_type": "code",
   "execution_count": 7,
   "id": "5788b7ab",
   "metadata": {
    "execution": {
     "iopub.execute_input": "2025-03-25T14:40:51.298181Z",
     "iopub.status.busy": "2025-03-25T14:40:51.297869Z",
     "iopub.status.idle": "2025-03-25T14:40:51.309834Z",
     "shell.execute_reply": "2025-03-25T14:40:51.308720Z"
    },
    "papermill": {
     "duration": 0.018367,
     "end_time": "2025-03-25T14:40:51.311536",
     "exception": false,
     "start_time": "2025-03-25T14:40:51.293169",
     "status": "completed"
    },
    "tags": []
   },
   "outputs": [
    {
     "name": "stdout",
     "output_type": "stream",
     "text": [
      "target\n",
      "1    526\n",
      "0    499\n",
      "Name: count, dtype: int64\n"
     ]
    }
   ],
   "source": [
    "counts = df['target'].value_counts()\n",
    "print(counts)"
   ]
  },
  {
   "cell_type": "code",
   "execution_count": 8,
   "id": "a6fd599b",
   "metadata": {
    "execution": {
     "iopub.execute_input": "2025-03-25T14:40:51.321787Z",
     "iopub.status.busy": "2025-03-25T14:40:51.321385Z",
     "iopub.status.idle": "2025-03-25T14:40:51.328246Z",
     "shell.execute_reply": "2025-03-25T14:40:51.327265Z"
    },
    "papermill": {
     "duration": 0.014144,
     "end_time": "2025-03-25T14:40:51.329889",
     "exception": false,
     "start_time": "2025-03-25T14:40:51.315745",
     "status": "completed"
    },
    "tags": []
   },
   "outputs": [],
   "source": [
    "x_train, x_test, y_train, y_test = train_test_split(x, y, test_size=0.2, random_state=42)"
   ]
  },
  {
   "cell_type": "code",
   "execution_count": 9,
   "id": "b6f2be54",
   "metadata": {
    "execution": {
     "iopub.execute_input": "2025-03-25T14:40:51.339163Z",
     "iopub.status.busy": "2025-03-25T14:40:51.338839Z",
     "iopub.status.idle": "2025-03-25T14:40:51.344901Z",
     "shell.execute_reply": "2025-03-25T14:40:51.343648Z"
    },
    "papermill": {
     "duration": 0.012387,
     "end_time": "2025-03-25T14:40:51.346555",
     "exception": false,
     "start_time": "2025-03-25T14:40:51.334168",
     "status": "completed"
    },
    "tags": []
   },
   "outputs": [
    {
     "name": "stdout",
     "output_type": "stream",
     "text": [
      "527    1\n",
      "359    1\n",
      "447    0\n",
      "31     1\n",
      "621    0\n",
      "      ..\n",
      "832    1\n",
      "796    1\n",
      "644    1\n",
      "404    0\n",
      "842    0\n",
      "Name: target, Length: 205, dtype: int64\n"
     ]
    }
   ],
   "source": [
    "print(y_test)"
   ]
  },
  {
   "cell_type": "code",
   "execution_count": 10,
   "id": "aeabea56",
   "metadata": {
    "execution": {
     "iopub.execute_input": "2025-03-25T14:40:51.356207Z",
     "iopub.status.busy": "2025-03-25T14:40:51.355868Z",
     "iopub.status.idle": "2025-03-25T14:40:51.379729Z",
     "shell.execute_reply": "2025-03-25T14:40:51.378827Z"
    },
    "papermill": {
     "duration": 0.030916,
     "end_time": "2025-03-25T14:40:51.381663",
     "exception": false,
     "start_time": "2025-03-25T14:40:51.350747",
     "status": "completed"
    },
    "tags": []
   },
   "outputs": [],
   "source": [
    "scaler = StandardScaler()\n",
    "x_train_scaled = scaler.fit_transform(x_train)\n",
    "x_test_scaled = scaler.transform(x_test)\n"
   ]
  },
  {
   "cell_type": "code",
   "execution_count": 11,
   "id": "e137144d",
   "metadata": {
    "execution": {
     "iopub.execute_input": "2025-03-25T14:40:51.391504Z",
     "iopub.status.busy": "2025-03-25T14:40:51.391140Z",
     "iopub.status.idle": "2025-03-25T14:40:51.412505Z",
     "shell.execute_reply": "2025-03-25T14:40:51.411554Z"
    },
    "papermill": {
     "duration": 0.028203,
     "end_time": "2025-03-25T14:40:51.414358",
     "exception": false,
     "start_time": "2025-03-25T14:40:51.386155",
     "status": "completed"
    },
    "tags": []
   },
   "outputs": [],
   "source": [
    " #SVM classifier\n",
    "model = SVC(kernel='poly' , gamma= 'auto', C=100)\n",
    "model.fit(x_train_scaled, y_train)\n",
    "y_pred = model.predict(x_test_scaled)\n"
   ]
  },
  {
   "cell_type": "code",
   "execution_count": 12,
   "id": "dd8f007f",
   "metadata": {
    "execution": {
     "iopub.execute_input": "2025-03-25T14:40:51.423982Z",
     "iopub.status.busy": "2025-03-25T14:40:51.423617Z",
     "iopub.status.idle": "2025-03-25T14:40:51.430190Z",
     "shell.execute_reply": "2025-03-25T14:40:51.429068Z"
    },
    "papermill": {
     "duration": 0.013018,
     "end_time": "2025-03-25T14:40:51.431728",
     "exception": false,
     "start_time": "2025-03-25T14:40:51.418710",
     "status": "completed"
    },
    "tags": []
   },
   "outputs": [
    {
     "name": "stdout",
     "output_type": "stream",
     "text": [
      "\n",
      "Model Accuracy: 98.54%\n"
     ]
    }
   ],
   "source": [
    "accuracy = accuracy_score(y_test, y_pred)*100\n",
    "print(f\"\\nModel Accuracy: {accuracy:.2f}%\")"
   ]
  },
  {
   "cell_type": "code",
   "execution_count": 13,
   "id": "3169adf3",
   "metadata": {
    "execution": {
     "iopub.execute_input": "2025-03-25T14:40:51.441969Z",
     "iopub.status.busy": "2025-03-25T14:40:51.441622Z",
     "iopub.status.idle": "2025-03-25T14:40:51.454291Z",
     "shell.execute_reply": "2025-03-25T14:40:51.453023Z"
    },
    "papermill": {
     "duration": 0.019749,
     "end_time": "2025-03-25T14:40:51.456061",
     "exception": false,
     "start_time": "2025-03-25T14:40:51.436312",
     "status": "completed"
    },
    "tags": []
   },
   "outputs": [
    {
     "name": "stdout",
     "output_type": "stream",
     "text": [
      "\n",
      "Classification Report:\n",
      "               precision    recall  f1-score   support\n",
      "\n",
      "           0       0.97      1.00      0.99       102\n",
      "           1       1.00      0.97      0.99       103\n",
      "\n",
      "    accuracy                           0.99       205\n",
      "   macro avg       0.99      0.99      0.99       205\n",
      "weighted avg       0.99      0.99      0.99       205\n",
      "\n"
     ]
    }
   ],
   "source": [
    "# Classification Report\n",
    "print(\"\\nClassification Report:\\n\", classification_report(y_test, y_pred))"
   ]
  },
  {
   "cell_type": "code",
   "execution_count": 14,
   "id": "7824f8d4",
   "metadata": {
    "execution": {
     "iopub.execute_input": "2025-03-25T14:40:51.465820Z",
     "iopub.status.busy": "2025-03-25T14:40:51.465468Z",
     "iopub.status.idle": "2025-03-25T14:40:51.471746Z",
     "shell.execute_reply": "2025-03-25T14:40:51.470530Z"
    },
    "papermill": {
     "duration": 0.012791,
     "end_time": "2025-03-25T14:40:51.473223",
     "exception": false,
     "start_time": "2025-03-25T14:40:51.460432",
     "status": "completed"
    },
    "tags": []
   },
   "outputs": [
    {
     "name": "stdout",
     "output_type": "stream",
     "text": [
      "\n",
      "Confusion Matrix:\n",
      " [[102   0]\n",
      " [  3 100]]\n"
     ]
    }
   ],
   "source": [
    "# Confusion Matrix\n",
    "print(\"\\nConfusion Matrix:\\n\", confusion_matrix(y_test, y_pred))"
   ]
  },
  {
   "cell_type": "code",
   "execution_count": 15,
   "id": "f5104dd4",
   "metadata": {
    "execution": {
     "iopub.execute_input": "2025-03-25T14:40:51.483018Z",
     "iopub.status.busy": "2025-03-25T14:40:51.482673Z",
     "iopub.status.idle": "2025-03-25T14:40:51.490892Z",
     "shell.execute_reply": "2025-03-25T14:40:51.489971Z"
    },
    "papermill": {
     "duration": 0.014976,
     "end_time": "2025-03-25T14:40:51.492579",
     "exception": false,
     "start_time": "2025-03-25T14:40:51.477603",
     "status": "completed"
    },
    "tags": []
   },
   "outputs": [
    {
     "data": {
      "text/plain": [
       "['Heart_attack_prediction_model.pkl']"
      ]
     },
     "execution_count": 15,
     "metadata": {},
     "output_type": "execute_result"
    }
   ],
   "source": [
    "import joblib\n",
    "\n",
    "joblib.dump(model, \"Heart_attack_prediction_model.pkl\")\n"
   ]
  }
 ],
 "metadata": {
  "kaggle": {
   "accelerator": "none",
   "dataSources": [
    {
     "datasetId": 216167,
     "sourceId": 477177,
     "sourceType": "datasetVersion"
    }
   ],
   "dockerImageVersionId": 30918,
   "isGpuEnabled": false,
   "isInternetEnabled": true,
   "language": "python",
   "sourceType": "notebook"
  },
  "kernelspec": {
   "display_name": "Python 3",
   "language": "python",
   "name": "python3"
  },
  "language_info": {
   "codemirror_mode": {
    "name": "ipython",
    "version": 3
   },
   "file_extension": ".py",
   "mimetype": "text/x-python",
   "name": "python",
   "nbconvert_exporter": "python",
   "pygments_lexer": "ipython3",
   "version": "3.10.12"
  },
  "papermill": {
   "default_parameters": {},
   "duration": 6.172374,
   "end_time": "2025-03-25T14:40:52.116933",
   "environment_variables": {},
   "exception": null,
   "input_path": "__notebook__.ipynb",
   "output_path": "__notebook__.ipynb",
   "parameters": {},
   "start_time": "2025-03-25T14:40:45.944559",
   "version": "2.6.0"
  }
 },
 "nbformat": 4,
 "nbformat_minor": 5
}
